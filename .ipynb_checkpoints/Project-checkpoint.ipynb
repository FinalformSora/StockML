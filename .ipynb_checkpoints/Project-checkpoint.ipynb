{
 "cells": [
  {
   "cell_type": "code",
   "execution_count": 1,
   "metadata": {},
   "outputs": [],
   "source": [
    "from sklearn.linear_model import LogisticRegression\n",
    "from sklearn.neighbors import KNeighborsClassifier\n",
    "from sklearn.tree import DecisionTreeClassifier\n",
    "from sklearn.ensemble import RandomForestClassifier\n",
    "from sklearn.linear_model import LinearRegression\n",
    "from sklearn.model_selection import cross_val_score\n",
    "from sklearn.metrics import accuracy_score\n",
    "import sklearn.metrics as metrics\n",
    "from xgboost import XGBClassifier\n",
    "from sklearn.ensemble import AdaBoostClassifier\n",
    "\n",
    "from  keras.wrappers.scikit_learn  import  KerasClassifier\n",
    "from  sklearn.model_selection  import  GridSearchCV\n",
    "\n",
    "import numpy as np\n",
    "import pandas as pd"
   ]
  },
  {
   "cell_type": "code",
   "execution_count": 2,
   "metadata": {},
   "outputs": [
    {
     "data": {
      "text/plain": [
       "9940"
      ]
     },
     "execution_count": 2,
     "metadata": {},
     "output_type": "execute_result"
    }
   ],
   "source": [
    "#part A)\n",
    "df = pd.read_csv(\"https://raw.githubusercontent.com/lilpozerz/AMDStock/main/Amd%20Data%20sheet%20-%20Sheet1%20(1).csv\")\n",
    "df[0::10]\n",
    "df.size"
   ]
  },
  {
   "cell_type": "code",
   "execution_count": 3,
   "metadata": {},
   "outputs": [
    {
     "data": {
      "text/html": [
       "<div>\n",
       "<style scoped>\n",
       "    .dataframe tbody tr th:only-of-type {\n",
       "        vertical-align: middle;\n",
       "    }\n",
       "\n",
       "    .dataframe tbody tr th {\n",
       "        vertical-align: top;\n",
       "    }\n",
       "\n",
       "    .dataframe thead th {\n",
       "        text-align: right;\n",
       "    }\n",
       "</style>\n",
       "<table border=\"1\" class=\"dataframe\">\n",
       "  <thead>\n",
       "    <tr style=\"text-align: right;\">\n",
       "      <th></th>\n",
       "      <th>Date</th>\n",
       "      <th>Open</th>\n",
       "      <th>High</th>\n",
       "      <th>Low</th>\n",
       "      <th>Close</th>\n",
       "      <th>Adj Close</th>\n",
       "      <th>Volume</th>\n",
       "      <th>close-open</th>\n",
       "      <th>increase yes or no</th>\n",
       "      <th>increase yes or no (1 or 0)</th>\n",
       "      <th>50day moving average</th>\n",
       "      <th>50 moving day average</th>\n",
       "      <th>50 moving day average (1 or 0)</th>\n",
       "      <th>100 day moving average</th>\n",
       "      <th>100 day moving average beat</th>\n",
       "      <th>100 day moving average (1 or 0)</th>\n",
       "      <th>AMD News</th>\n",
       "      <th>AMD News (1 or 0)</th>\n",
       "      <th>Quarterly earnings</th>\n",
       "      <th>Quarterly earnings (1 or 0)</th>\n",
       "    </tr>\n",
       "  </thead>\n",
       "  <tbody>\n",
       "    <tr>\n",
       "      <td>0</td>\n",
       "      <td>2018-12-11</td>\n",
       "      <td>20.709999</td>\n",
       "      <td>21.139999</td>\n",
       "      <td>19.690001</td>\n",
       "      <td>19.980000</td>\n",
       "      <td>19.980000</td>\n",
       "      <td>88027400</td>\n",
       "      <td>-0.729999</td>\n",
       "      <td>no</td>\n",
       "      <td>0</td>\n",
       "      <td>22.4464</td>\n",
       "      <td>Yes</td>\n",
       "      <td>1</td>\n",
       "      <td>26.7160</td>\n",
       "      <td>Yes</td>\n",
       "      <td>1</td>\n",
       "      <td>No</td>\n",
       "      <td>0</td>\n",
       "      <td>No</td>\n",
       "      <td>0</td>\n",
       "    </tr>\n",
       "    <tr>\n",
       "      <td>1</td>\n",
       "      <td>2018-12-12</td>\n",
       "      <td>20.320000</td>\n",
       "      <td>21.020000</td>\n",
       "      <td>19.709999</td>\n",
       "      <td>20.480000</td>\n",
       "      <td>20.480000</td>\n",
       "      <td>100340700</td>\n",
       "      <td>0.160000</td>\n",
       "      <td>yes</td>\n",
       "      <td>1</td>\n",
       "      <td>22.2276</td>\n",
       "      <td>Yes</td>\n",
       "      <td>1</td>\n",
       "      <td>26.5923</td>\n",
       "      <td>Yes</td>\n",
       "      <td>1</td>\n",
       "      <td>No</td>\n",
       "      <td>0</td>\n",
       "      <td>No</td>\n",
       "      <td>0</td>\n",
       "    </tr>\n",
       "    <tr>\n",
       "      <td>2</td>\n",
       "      <td>2018-12-13</td>\n",
       "      <td>20.629999</td>\n",
       "      <td>20.870001</td>\n",
       "      <td>19.760000</td>\n",
       "      <td>19.860001</td>\n",
       "      <td>19.860001</td>\n",
       "      <td>88108300</td>\n",
       "      <td>-0.769998</td>\n",
       "      <td>no</td>\n",
       "      <td>0</td>\n",
       "      <td>22.0444</td>\n",
       "      <td>Yes</td>\n",
       "      <td>1</td>\n",
       "      <td>26.4560</td>\n",
       "      <td>Yes</td>\n",
       "      <td>1</td>\n",
       "      <td>No</td>\n",
       "      <td>0</td>\n",
       "      <td>No</td>\n",
       "      <td>0</td>\n",
       "    </tr>\n",
       "    <tr>\n",
       "      <td>3</td>\n",
       "      <td>2018-12-14</td>\n",
       "      <td>19.580000</td>\n",
       "      <td>20.700001</td>\n",
       "      <td>19.520000</td>\n",
       "      <td>19.900000</td>\n",
       "      <td>19.900000</td>\n",
       "      <td>84713600</td>\n",
       "      <td>0.320000</td>\n",
       "      <td>yes</td>\n",
       "      <td>1</td>\n",
       "      <td>21.8738</td>\n",
       "      <td>Yes</td>\n",
       "      <td>1</td>\n",
       "      <td>26.3139</td>\n",
       "      <td>Yes</td>\n",
       "      <td>1</td>\n",
       "      <td>No</td>\n",
       "      <td>0</td>\n",
       "      <td>No</td>\n",
       "      <td>0</td>\n",
       "    </tr>\n",
       "    <tr>\n",
       "      <td>4</td>\n",
       "      <td>2018-12-17</td>\n",
       "      <td>20.010000</td>\n",
       "      <td>20.020000</td>\n",
       "      <td>18.639999</td>\n",
       "      <td>18.830000</td>\n",
       "      <td>18.830000</td>\n",
       "      <td>115437900</td>\n",
       "      <td>-1.180000</td>\n",
       "      <td>no</td>\n",
       "      <td>0</td>\n",
       "      <td>21.6948</td>\n",
       "      <td>Yes</td>\n",
       "      <td>1</td>\n",
       "      <td>26.1655</td>\n",
       "      <td>Yes</td>\n",
       "      <td>1</td>\n",
       "      <td>No</td>\n",
       "      <td>0</td>\n",
       "      <td>No</td>\n",
       "      <td>0</td>\n",
       "    </tr>\n",
       "    <tr>\n",
       "      <td>...</td>\n",
       "      <td>...</td>\n",
       "      <td>...</td>\n",
       "      <td>...</td>\n",
       "      <td>...</td>\n",
       "      <td>...</td>\n",
       "      <td>...</td>\n",
       "      <td>...</td>\n",
       "      <td>...</td>\n",
       "      <td>...</td>\n",
       "      <td>...</td>\n",
       "      <td>...</td>\n",
       "      <td>...</td>\n",
       "      <td>...</td>\n",
       "      <td>...</td>\n",
       "      <td>...</td>\n",
       "      <td>...</td>\n",
       "      <td>...</td>\n",
       "      <td>...</td>\n",
       "      <td>...</td>\n",
       "      <td>...</td>\n",
       "    </tr>\n",
       "    <tr>\n",
       "      <td>492</td>\n",
       "      <td>2020-11-23</td>\n",
       "      <td>85.519997</td>\n",
       "      <td>87.540001</td>\n",
       "      <td>84.620003</td>\n",
       "      <td>85.309998</td>\n",
       "      <td>85.309998</td>\n",
       "      <td>46505000</td>\n",
       "      <td>-0.209999</td>\n",
       "      <td>no</td>\n",
       "      <td>0</td>\n",
       "      <td>81.1096</td>\n",
       "      <td>No</td>\n",
       "      <td>0</td>\n",
       "      <td>77.6810</td>\n",
       "      <td>No</td>\n",
       "      <td>0</td>\n",
       "      <td>No</td>\n",
       "      <td>0</td>\n",
       "      <td>No</td>\n",
       "      <td>0</td>\n",
       "    </tr>\n",
       "    <tr>\n",
       "      <td>493</td>\n",
       "      <td>2020-11-24</td>\n",
       "      <td>85.720001</td>\n",
       "      <td>86.110001</td>\n",
       "      <td>83.320000</td>\n",
       "      <td>85.070000</td>\n",
       "      <td>85.070000</td>\n",
       "      <td>36839200</td>\n",
       "      <td>-0.650001</td>\n",
       "      <td>no</td>\n",
       "      <td>0</td>\n",
       "      <td>81.2324</td>\n",
       "      <td>No</td>\n",
       "      <td>0</td>\n",
       "      <td>77.9977</td>\n",
       "      <td>No</td>\n",
       "      <td>0</td>\n",
       "      <td>No</td>\n",
       "      <td>0</td>\n",
       "      <td>No</td>\n",
       "      <td>0</td>\n",
       "    </tr>\n",
       "    <tr>\n",
       "      <td>494</td>\n",
       "      <td>2020-11-25</td>\n",
       "      <td>85.760002</td>\n",
       "      <td>87.839996</td>\n",
       "      <td>85.519997</td>\n",
       "      <td>86.709999</td>\n",
       "      <td>86.709999</td>\n",
       "      <td>41349700</td>\n",
       "      <td>0.949997</td>\n",
       "      <td>yes</td>\n",
       "      <td>1</td>\n",
       "      <td>81.4334</td>\n",
       "      <td>No</td>\n",
       "      <td>0</td>\n",
       "      <td>78.3355</td>\n",
       "      <td>No</td>\n",
       "      <td>0</td>\n",
       "      <td>No</td>\n",
       "      <td>0</td>\n",
       "      <td>No</td>\n",
       "      <td>0</td>\n",
       "    </tr>\n",
       "    <tr>\n",
       "      <td>495</td>\n",
       "      <td>2020-11-27</td>\n",
       "      <td>87.989998</td>\n",
       "      <td>88.000000</td>\n",
       "      <td>86.360001</td>\n",
       "      <td>87.190002</td>\n",
       "      <td>87.190002</td>\n",
       "      <td>22717600</td>\n",
       "      <td>-0.799996</td>\n",
       "      <td>no</td>\n",
       "      <td>0</td>\n",
       "      <td>81.6462</td>\n",
       "      <td>No</td>\n",
       "      <td>0</td>\n",
       "      <td>78.6731</td>\n",
       "      <td>No</td>\n",
       "      <td>0</td>\n",
       "      <td>No</td>\n",
       "      <td>0</td>\n",
       "      <td>No</td>\n",
       "      <td>0</td>\n",
       "    </tr>\n",
       "    <tr>\n",
       "      <td>496</td>\n",
       "      <td>2020-11-30</td>\n",
       "      <td>87.330002</td>\n",
       "      <td>92.739998</td>\n",
       "      <td>86.529999</td>\n",
       "      <td>92.660004</td>\n",
       "      <td>92.660004</td>\n",
       "      <td>84483000</td>\n",
       "      <td>5.330002</td>\n",
       "      <td>yes</td>\n",
       "      <td>1</td>\n",
       "      <td>82.0008</td>\n",
       "      <td>No</td>\n",
       "      <td>0</td>\n",
       "      <td>79.0271</td>\n",
       "      <td>No</td>\n",
       "      <td>0</td>\n",
       "      <td>No</td>\n",
       "      <td>0</td>\n",
       "      <td>No</td>\n",
       "      <td>0</td>\n",
       "    </tr>\n",
       "  </tbody>\n",
       "</table>\n",
       "<p>497 rows × 20 columns</p>\n",
       "</div>"
      ],
      "text/plain": [
       "           Date       Open       High        Low      Close  Adj Close  \\\n",
       "0    2018-12-11  20.709999  21.139999  19.690001  19.980000  19.980000   \n",
       "1    2018-12-12  20.320000  21.020000  19.709999  20.480000  20.480000   \n",
       "2    2018-12-13  20.629999  20.870001  19.760000  19.860001  19.860001   \n",
       "3    2018-12-14  19.580000  20.700001  19.520000  19.900000  19.900000   \n",
       "4    2018-12-17  20.010000  20.020000  18.639999  18.830000  18.830000   \n",
       "..          ...        ...        ...        ...        ...        ...   \n",
       "492  2020-11-23  85.519997  87.540001  84.620003  85.309998  85.309998   \n",
       "493  2020-11-24  85.720001  86.110001  83.320000  85.070000  85.070000   \n",
       "494  2020-11-25  85.760002  87.839996  85.519997  86.709999  86.709999   \n",
       "495  2020-11-27  87.989998  88.000000  86.360001  87.190002  87.190002   \n",
       "496  2020-11-30  87.330002  92.739998  86.529999  92.660004  92.660004   \n",
       "\n",
       "        Volume  close-open increase yes or no  increase yes or no (1 or 0)  \\\n",
       "0     88027400   -0.729999                 no                            0   \n",
       "1    100340700    0.160000                yes                            1   \n",
       "2     88108300   -0.769998                 no                            0   \n",
       "3     84713600    0.320000                yes                            1   \n",
       "4    115437900   -1.180000                 no                            0   \n",
       "..         ...         ...                ...                          ...   \n",
       "492   46505000   -0.209999                 no                            0   \n",
       "493   36839200   -0.650001                 no                            0   \n",
       "494   41349700    0.949997                yes                            1   \n",
       "495   22717600   -0.799996                 no                            0   \n",
       "496   84483000    5.330002                yes                            1   \n",
       "\n",
       "     50day moving average 50 moving day average  \\\n",
       "0                 22.4464                   Yes   \n",
       "1                 22.2276                   Yes   \n",
       "2                 22.0444                   Yes   \n",
       "3                 21.8738                   Yes   \n",
       "4                 21.6948                   Yes   \n",
       "..                    ...                   ...   \n",
       "492               81.1096                    No   \n",
       "493               81.2324                    No   \n",
       "494               81.4334                    No   \n",
       "495               81.6462                    No   \n",
       "496               82.0008                    No   \n",
       "\n",
       "     50 moving day average (1 or 0)  100 day moving average  \\\n",
       "0                                 1                 26.7160   \n",
       "1                                 1                 26.5923   \n",
       "2                                 1                 26.4560   \n",
       "3                                 1                 26.3139   \n",
       "4                                 1                 26.1655   \n",
       "..                              ...                     ...   \n",
       "492                               0                 77.6810   \n",
       "493                               0                 77.9977   \n",
       "494                               0                 78.3355   \n",
       "495                               0                 78.6731   \n",
       "496                               0                 79.0271   \n",
       "\n",
       "    100 day moving average beat  100 day moving average (1 or 0) AMD News  \\\n",
       "0                           Yes                                1       No   \n",
       "1                           Yes                                1       No   \n",
       "2                           Yes                                1       No   \n",
       "3                           Yes                                1       No   \n",
       "4                           Yes                                1       No   \n",
       "..                          ...                              ...      ...   \n",
       "492                          No                                0       No   \n",
       "493                          No                                0       No   \n",
       "494                          No                                0       No   \n",
       "495                          No                                0       No   \n",
       "496                          No                                0       No   \n",
       "\n",
       "     AMD News (1 or 0) Quarterly earnings  Quarterly earnings (1 or 0)  \n",
       "0                    0                 No                            0  \n",
       "1                    0                 No                            0  \n",
       "2                    0                 No                            0  \n",
       "3                    0                 No                            0  \n",
       "4                    0                 No                            0  \n",
       "..                 ...                ...                          ...  \n",
       "492                  0                 No                            0  \n",
       "493                  0                 No                            0  \n",
       "494                  0                 No                            0  \n",
       "495                  0                 No                            0  \n",
       "496                  0                 No                            0  \n",
       "\n",
       "[497 rows x 20 columns]"
      ]
     },
     "execution_count": 3,
     "metadata": {},
     "output_type": "execute_result"
    }
   ],
   "source": [
    "#Data that  has been parsed and cleaned up\n",
    "#Had to create a moving average for 50 day and 100 day. It requres calculation of previous days and finding the average\n",
    "#increase is based on CLose-Open= if it equals positive its a true on increase\n",
    "#AMD news is based on press release released by amd on their site. I had to manual add this in cause no site has this information parsed\n",
    "#quarterly earning is also gather by searching the web for this release date\n",
    "df"
   ]
  },
  {
   "cell_type": "code",
   "execution_count": 4,
   "metadata": {},
   "outputs": [],
   "source": [
    "#creating the Colunms for important data to use"
   ]
  },
  {
   "cell_type": "code",
   "execution_count": 5,
   "metadata": {},
   "outputs": [
    {
     "data": {
      "text/html": [
       "<div>\n",
       "<style scoped>\n",
       "    .dataframe tbody tr th:only-of-type {\n",
       "        vertical-align: middle;\n",
       "    }\n",
       "\n",
       "    .dataframe tbody tr th {\n",
       "        vertical-align: top;\n",
       "    }\n",
       "\n",
       "    .dataframe thead th {\n",
       "        text-align: right;\n",
       "    }\n",
       "</style>\n",
       "<table border=\"1\" class=\"dataframe\">\n",
       "  <thead>\n",
       "    <tr style=\"text-align: right;\">\n",
       "      <th></th>\n",
       "      <th>50 moving day average (1 or 0)</th>\n",
       "      <th>Volume</th>\n",
       "      <th>100 day moving average (1 or 0)</th>\n",
       "      <th>AMD News (1 or 0)</th>\n",
       "      <th>Quarterly earnings (1 or 0)</th>\n",
       "    </tr>\n",
       "  </thead>\n",
       "  <tbody>\n",
       "    <tr>\n",
       "      <td>0</td>\n",
       "      <td>1</td>\n",
       "      <td>88027400</td>\n",
       "      <td>1</td>\n",
       "      <td>0</td>\n",
       "      <td>0</td>\n",
       "    </tr>\n",
       "    <tr>\n",
       "      <td>1</td>\n",
       "      <td>1</td>\n",
       "      <td>100340700</td>\n",
       "      <td>1</td>\n",
       "      <td>0</td>\n",
       "      <td>0</td>\n",
       "    </tr>\n",
       "    <tr>\n",
       "      <td>2</td>\n",
       "      <td>1</td>\n",
       "      <td>88108300</td>\n",
       "      <td>1</td>\n",
       "      <td>0</td>\n",
       "      <td>0</td>\n",
       "    </tr>\n",
       "    <tr>\n",
       "      <td>3</td>\n",
       "      <td>1</td>\n",
       "      <td>84713600</td>\n",
       "      <td>1</td>\n",
       "      <td>0</td>\n",
       "      <td>0</td>\n",
       "    </tr>\n",
       "    <tr>\n",
       "      <td>4</td>\n",
       "      <td>1</td>\n",
       "      <td>115437900</td>\n",
       "      <td>1</td>\n",
       "      <td>0</td>\n",
       "      <td>0</td>\n",
       "    </tr>\n",
       "  </tbody>\n",
       "</table>\n",
       "</div>"
      ],
      "text/plain": [
       "   50 moving day average (1 or 0)     Volume  100 day moving average (1 or 0)  \\\n",
       "0                               1   88027400                                1   \n",
       "1                               1  100340700                                1   \n",
       "2                               1   88108300                                1   \n",
       "3                               1   84713600                                1   \n",
       "4                               1  115437900                                1   \n",
       "\n",
       "   AMD News (1 or 0)  Quarterly earnings (1 or 0)  \n",
       "0                  0                            0  \n",
       "1                  0                            0  \n",
       "2                  0                            0  \n",
       "3                  0                            0  \n",
       "4                  0                            0  "
      ]
     },
     "execution_count": 5,
     "metadata": {},
     "output_type": "execute_result"
    }
   ],
   "source": [
    "feature_cols = ['50 moving day average (1 or 0)','Volume','100 day moving average (1 or 0)','AMD News (1 or 0)','Quarterly earnings (1 or 0)']\n",
    "X = df[feature_cols]\n",
    "X.head()\n",
    "\n"
   ]
  },
  {
   "cell_type": "code",
   "execution_count": 6,
   "metadata": {},
   "outputs": [],
   "source": [
    "#created the label based on if the stock increased or did not increase"
   ]
  },
  {
   "cell_type": "code",
   "execution_count": 7,
   "metadata": {
    "scrolled": true
   },
   "outputs": [
    {
     "data": {
      "text/plain": [
       "0      0\n",
       "25     1\n",
       "50     0\n",
       "75     0\n",
       "100    0\n",
       "125    1\n",
       "150    0\n",
       "175    1\n",
       "200    0\n",
       "225    1\n",
       "250    0\n",
       "275    1\n",
       "300    0\n",
       "325    1\n",
       "350    1\n",
       "375    1\n",
       "400    1\n",
       "425    0\n",
       "450    1\n",
       "475    1\n",
       "Name: increase yes or no (1 or 0), dtype: int64"
      ]
     },
     "execution_count": 7,
     "metadata": {},
     "output_type": "execute_result"
    }
   ],
   "source": [
    "y = df['increase yes or no (1 or 0)']\n",
    "y[::25]"
   ]
  },
  {
   "cell_type": "code",
   "execution_count": 8,
   "metadata": {},
   "outputs": [],
   "source": [
    "#calling all the classifers\n",
    "my_logreg = LogisticRegression()\n",
    "my_decisiontree = DecisionTreeClassifier()\n",
    "knn = KNeighborsClassifier(n_neighbors=4)\n",
    "my_RandomForest = RandomForestClassifier()\n",
    "my_linreg = LinearRegression()\n",
    "my_AdaBoost = AdaBoostClassifier(n_estimators = 29,random_state=2)\n",
    "my_XGBoost = XGBClassifier(n_estimators = 29,random_state=2)\n"
   ]
  },
  {
   "cell_type": "code",
   "execution_count": 9,
   "metadata": {},
   "outputs": [],
   "source": [
    "#seting up train set\n",
    "from sklearn.model_selection import train_test_split\n",
    "X_train, X_test, y_train, y_test = train_test_split(X, y, test_size=0.25, random_state=5)"
   ]
  },
  {
   "cell_type": "code",
   "execution_count": 10,
   "metadata": {},
   "outputs": [
    {
     "name": "stderr",
     "output_type": "stream",
     "text": [
      "C:\\Users\\jesus\\Anaconda3\\lib\\site-packages\\sklearn\\linear_model\\logistic.py:432: FutureWarning: Default solver will be changed to 'lbfgs' in 0.22. Specify a solver to silence this warning.\n",
      "  FutureWarning)\n",
      "C:\\Users\\jesus\\Anaconda3\\lib\\site-packages\\sklearn\\ensemble\\forest.py:245: FutureWarning: The default value of n_estimators will change from 10 in version 0.20 to 100 in 0.22.\n",
      "  \"10 in version 0.20 to 100 in 0.22.\", FutureWarning)\n",
      "C:\\Users\\jesus\\Anaconda3\\lib\\site-packages\\xgboost\\sklearn.py:888: UserWarning: The use of label encoder in XGBClassifier is deprecated and will be removed in a future release. To remove this warning, do the following: 1) Pass option use_label_encoder=False when constructing XGBClassifier object; and 2) Encode your labels (y) as integers starting with 0, i.e. 0, 1, 2, ..., [num_class - 1].\n",
      "  warnings.warn(label_encoder_deprecation_msg, UserWarning)\n"
     ]
    },
    {
     "name": "stdout",
     "output_type": "stream",
     "text": [
      "[16:23:01] WARNING: C:/Users/Administrator/workspace/xgboost-win64_release_1.3.0/src/learner.cc:1061: Starting in XGBoost 1.3.0, the default evaluation metric used with the objective 'binary:logistic' was changed from 'error' to 'logloss'. Explicitly set eval_metric if you'd like to restore the old behavior.\n"
     ]
    },
    {
     "data": {
      "text/plain": [
       "XGBClassifier(base_score=0.5, booster='gbtree', colsample_bylevel=1,\n",
       "              colsample_bynode=1, colsample_bytree=1, gamma=0, gpu_id=-1,\n",
       "              importance_type='gain', interaction_constraints='',\n",
       "              learning_rate=0.300000012, max_delta_step=0, max_depth=6,\n",
       "              min_child_weight=1, missing=nan, monotone_constraints='()',\n",
       "              n_estimators=29, n_jobs=8, num_parallel_tree=1,\n",
       "              objective='binary:logistic', random_state=2, reg_alpha=0,\n",
       "              reg_lambda=1, scale_pos_weight=1, subsample=1,\n",
       "              tree_method='exact', use_label_encoder=True,\n",
       "              validate_parameters=1, verbosity=None)"
      ]
     },
     "execution_count": 10,
     "metadata": {},
     "output_type": "execute_result"
    }
   ],
   "source": [
    "# training sets\n",
    "\n",
    "knn.fit(X_train, y_train)\n",
    "my_logreg.fit(X_train, y_train)\n",
    "my_RandomForest.fit(X_train, y_train)\n",
    "my_decisiontree.fit(X_train, y_train)\n",
    "my_linreg.fit(X_train, y_train)\n",
    "my_AdaBoost.fit(X_train,y_train)\n",
    "my_XGBoost.fit(X_train,y_train)\n"
   ]
  },
  {
   "cell_type": "code",
   "execution_count": 11,
   "metadata": {},
   "outputs": [],
   "source": [
    "#Training\n",
    "y_predict_lor = my_logreg.predict(X_test)\n",
    "y_predict = knn.predict(X_test)\n",
    "y_predict_dt = my_decisiontree.predict(X_test)\n",
    "y_predict_rt = my_RandomForest.predict(X_test)\n",
    "y_predict_LR = my_linreg.predict(X_test)\n",
    "y_predict_AB = my_AdaBoost.predict(X_test)\n",
    "y_predict_XB = my_XGBoost.predict(X_test)\n"
   ]
  },
  {
   "cell_type": "code",
   "execution_count": 12,
   "metadata": {},
   "outputs": [
    {
     "name": "stdout",
     "output_type": "stream",
     "text": [
      "Linear Regression 0.5000987293110674\n",
      "LogisticRegression:  0.488\n",
      "Decision Tree:  0.504\n",
      "Random Forest:  0.56\n",
      "knn:  0.448\n",
      "AdaBoost:  0.424\n",
      "XGBoost:  0.528\n"
     ]
    }
   ],
   "source": [
    "#accuracy of the perdiction\n",
    "from sklearn.metrics import accuracy_score\n",
    "\n",
    "score_lor = accuracy_score(y_test, y_predict_lor)\n",
    "score_dt = accuracy_score(y_test, y_predict_dt)\n",
    "accuracy = accuracy_score(y_test, y_predict)\n",
    "score_rt = accuracy_score(y_test,y_predict_rt)\n",
    "score_AB = accuracy_score(y_test, y_predict_AB)\n",
    "score_XB = accuracy_score(y_test, y_predict_XB)\n",
    "\n",
    "y_predict_LR = my_linreg.predict(X_test)\n",
    "mse = metrics.mean_squared_error(y_test, y_predict_LR)\n",
    "rmse = np.sqrt(mse)\n",
    "print(\"Linear Regression\",rmse)\n",
    "print('LogisticRegression: ',score_lor)\n",
    "print(\"Decision Tree: \",score_dt)\n",
    "print(\"Random Forest: \",score_rt)\n",
    "print(\"knn: \",accuracy)\n",
    "print(\"AdaBoost: \",score_AB)\n",
    "print(\"XGBoost: \",score_XB)\n"
   ]
  },
  {
   "cell_type": "code",
   "execution_count": 13,
   "metadata": {},
   "outputs": [],
   "source": [
    "#Cross validation of all Classifers"
   ]
  },
  {
   "cell_type": "code",
   "execution_count": 14,
   "metadata": {},
   "outputs": [
    {
     "name": "stdout",
     "output_type": "stream",
     "text": [
      "Logistic Regression:  0.5191037414965987\n"
     ]
    },
    {
     "name": "stderr",
     "output_type": "stream",
     "text": [
      "C:\\Users\\jesus\\Anaconda3\\lib\\site-packages\\sklearn\\linear_model\\logistic.py:432: FutureWarning: Default solver will be changed to 'lbfgs' in 0.22. Specify a solver to silence this warning.\n",
      "  FutureWarning)\n",
      "C:\\Users\\jesus\\Anaconda3\\lib\\site-packages\\sklearn\\linear_model\\logistic.py:432: FutureWarning: Default solver will be changed to 'lbfgs' in 0.22. Specify a solver to silence this warning.\n",
      "  FutureWarning)\n",
      "C:\\Users\\jesus\\Anaconda3\\lib\\site-packages\\sklearn\\linear_model\\logistic.py:432: FutureWarning: Default solver will be changed to 'lbfgs' in 0.22. Specify a solver to silence this warning.\n",
      "  FutureWarning)\n",
      "C:\\Users\\jesus\\Anaconda3\\lib\\site-packages\\sklearn\\linear_model\\logistic.py:432: FutureWarning: Default solver will be changed to 'lbfgs' in 0.22. Specify a solver to silence this warning.\n",
      "  FutureWarning)\n",
      "C:\\Users\\jesus\\Anaconda3\\lib\\site-packages\\sklearn\\linear_model\\logistic.py:432: FutureWarning: Default solver will be changed to 'lbfgs' in 0.22. Specify a solver to silence this warning.\n",
      "  FutureWarning)\n",
      "C:\\Users\\jesus\\Anaconda3\\lib\\site-packages\\sklearn\\linear_model\\logistic.py:432: FutureWarning: Default solver will be changed to 'lbfgs' in 0.22. Specify a solver to silence this warning.\n",
      "  FutureWarning)\n",
      "C:\\Users\\jesus\\Anaconda3\\lib\\site-packages\\sklearn\\linear_model\\logistic.py:432: FutureWarning: Default solver will be changed to 'lbfgs' in 0.22. Specify a solver to silence this warning.\n",
      "  FutureWarning)\n",
      "C:\\Users\\jesus\\Anaconda3\\lib\\site-packages\\sklearn\\linear_model\\logistic.py:432: FutureWarning: Default solver will be changed to 'lbfgs' in 0.22. Specify a solver to silence this warning.\n",
      "  FutureWarning)\n",
      "C:\\Users\\jesus\\Anaconda3\\lib\\site-packages\\sklearn\\linear_model\\logistic.py:432: FutureWarning: Default solver will be changed to 'lbfgs' in 0.22. Specify a solver to silence this warning.\n",
      "  FutureWarning)\n",
      "C:\\Users\\jesus\\Anaconda3\\lib\\site-packages\\sklearn\\linear_model\\logistic.py:432: FutureWarning: Default solver will be changed to 'lbfgs' in 0.22. Specify a solver to silence this warning.\n",
      "  FutureWarning)\n"
     ]
    }
   ],
   "source": [
    "accuracy_list = cross_val_score(my_logreg, X, y, cv=10, scoring='accuracy')\n",
    "accuracy_cv = accuracy_list.mean()\n",
    "print(\"Logistic Regression: \",accuracy_cv)"
   ]
  },
  {
   "cell_type": "code",
   "execution_count": 15,
   "metadata": {},
   "outputs": [
    {
     "name": "stdout",
     "output_type": "stream",
     "text": [
      "Random Forest:  0.4828962585034014\n"
     ]
    }
   ],
   "source": [
    "accuracy_list = cross_val_score(my_RandomForest, X, y, cv=10, scoring='accuracy')\n",
    "accuracy_cv = accuracy_list.mean()\n",
    "\n",
    "print(\"Random Forest: \",accuracy_cv)"
   ]
  },
  {
   "cell_type": "code",
   "execution_count": 16,
   "metadata": {},
   "outputs": [
    {
     "name": "stdout",
     "output_type": "stream",
     "text": [
      "KNN:  0.47860884353741495\n"
     ]
    }
   ],
   "source": [
    "accuracy_list = cross_val_score(knn, X, y, cv=10, scoring='accuracy')\n",
    "accuracy_cv = accuracy_list.mean()\n",
    "\n",
    "print(\"KNN: \",accuracy_cv)\n"
   ]
  },
  {
   "cell_type": "code",
   "execution_count": 17,
   "metadata": {},
   "outputs": [
    {
     "name": "stdout",
     "output_type": "stream",
     "text": [
      "decisiontree:  0.47494217687074836\n"
     ]
    }
   ],
   "source": [
    "accuracy_list = cross_val_score(my_decisiontree, X, y, cv=10, scoring='accuracy')\n",
    "accuracy_cv = accuracy_list.mean()\n",
    "\n",
    "print(\"decisiontree: \",accuracy_cv)"
   ]
  },
  {
   "cell_type": "code",
   "execution_count": 18,
   "metadata": {},
   "outputs": [
    {
     "name": "stdout",
     "output_type": "stream",
     "text": [
      "Linear Regression:  0.500773758491541\n"
     ]
    }
   ],
   "source": [
    "mse_list = cross_val_score(my_linreg, X, y, cv=10, scoring='neg_mean_squared_error')\n",
    "mse_list_positive = -mse_list\n",
    "rmse_list = np.sqrt(mse_list_positive)\n",
    "print(\"Linear Regression: \",rmse_list.mean())\n"
   ]
  },
  {
   "cell_type": "code",
   "execution_count": 19,
   "metadata": {
    "scrolled": true
   },
   "outputs": [
    {
     "name": "stdout",
     "output_type": "stream",
     "text": [
      "Adaboost :  0.4349812925170068\n"
     ]
    }
   ],
   "source": [
    "accuracy_list = cross_val_score(my_AdaBoost, X, y, cv=10, scoring='accuracy')\n",
    "accuracy_ab = accuracy_list.mean()\n",
    "\n",
    "print(\"Adaboost : \",accuracy_ab)"
   ]
  },
  {
   "cell_type": "code",
   "execution_count": 20,
   "metadata": {},
   "outputs": [
    {
     "name": "stdout",
     "output_type": "stream",
     "text": [
      "[16:23:02] WARNING: C:/Users/Administrator/workspace/xgboost-win64_release_1.3.0/src/learner.cc:1061: Starting in XGBoost 1.3.0, the default evaluation metric used with the objective 'binary:logistic' was changed from 'error' to 'logloss'. Explicitly set eval_metric if you'd like to restore the old behavior.\n",
      "[16:23:02] WARNING: C:/Users/Administrator/workspace/xgboost-win64_release_1.3.0/src/learner.cc:1061: Starting in XGBoost 1.3.0, the default evaluation metric used with the objective 'binary:logistic' was changed from 'error' to 'logloss'. Explicitly set eval_metric if you'd like to restore the old behavior.\n",
      "[16:23:02] WARNING: C:/Users/Administrator/workspace/xgboost-win64_release_1.3.0/src/learner.cc:1061: Starting in XGBoost 1.3.0, the default evaluation metric used with the objective 'binary:logistic' was changed from 'error' to 'logloss'. Explicitly set eval_metric if you'd like to restore the old behavior.\n",
      "[16:23:02] WARNING: C:/Users/Administrator/workspace/xgboost-win64_release_1.3.0/src/learner.cc:1061: Starting in XGBoost 1.3.0, the default evaluation metric used with the objective 'binary:logistic' was changed from 'error' to 'logloss'. Explicitly set eval_metric if you'd like to restore the old behavior.\n",
      "[16:23:02] WARNING: C:/Users/Administrator/workspace/xgboost-win64_release_1.3.0/src/learner.cc:1061: Starting in XGBoost 1.3.0, the default evaluation metric used with the objective 'binary:logistic' was changed from 'error' to 'logloss'. Explicitly set eval_metric if you'd like to restore the old behavior.\n",
      "[16:23:03] WARNING: C:/Users/Administrator/workspace/xgboost-win64_release_1.3.0/src/learner.cc:1061: Starting in XGBoost 1.3.0, the default evaluation metric used with the objective 'binary:logistic' was changed from 'error' to 'logloss'. Explicitly set eval_metric if you'd like to restore the old behavior.\n",
      "[16:23:03] WARNING: C:/Users/Administrator/workspace/xgboost-win64_release_1.3.0/src/learner.cc:1061: Starting in XGBoost 1.3.0, the default evaluation metric used with the objective 'binary:logistic' was changed from 'error' to 'logloss'. Explicitly set eval_metric if you'd like to restore the old behavior."
     ]
    },
    {
     "name": "stderr",
     "output_type": "stream",
     "text": [
      "C:\\Users\\jesus\\Anaconda3\\lib\\site-packages\\xgboost\\sklearn.py:888: UserWarning: The use of label encoder in XGBClassifier is deprecated and will be removed in a future release. To remove this warning, do the following: 1) Pass option use_label_encoder=False when constructing XGBClassifier object; and 2) Encode your labels (y) as integers starting with 0, i.e. 0, 1, 2, ..., [num_class - 1].\n",
      "  warnings.warn(label_encoder_deprecation_msg, UserWarning)\n"
     ]
    },
    {
     "name": "stdout",
     "output_type": "stream",
     "text": [
      "\n",
      "[16:23:03] WARNING: C:/Users/Administrator/workspace/xgboost-win64_release_1.3.0/src/learner.cc:1061: Starting in XGBoost 1.3.0, the default evaluation metric used with the objective 'binary:logistic' was changed from 'error' to 'logloss'. Explicitly set eval_metric if you'd like to restore the old behavior.\n",
      "[16:23:03] WARNING: C:/Users/Administrator/workspace/xgboost-win64_release_1.3.0/src/learner.cc:1061: Starting in XGBoost 1.3.0, the default evaluation metric used with the objective 'binary:logistic' was changed from 'error' to 'logloss'. Explicitly set eval_metric if you'd like to restore the old behavior.\n",
      "[16:23:03] WARNING: C:/Users/Administrator/workspace/xgboost-win64_release_1.3.0/src/learner.cc:1061: Starting in XGBoost 1.3.0, the default evaluation metric used with the objective 'binary:logistic' was changed from 'error' to 'logloss'. Explicitly set eval_metric if you'd like to restore the old behavior.\n",
      "XGBoost:  0.47652380952380957\n"
     ]
    }
   ],
   "source": [
    "accuracy_list = cross_val_score(my_XGBoost, X, y, cv=10, scoring='accuracy')\n",
    "accuracy_XG = accuracy_list.mean()\n",
    "\n",
    "print(\"XGBoost: \",accuracy_XG)"
   ]
  },
  {
   "cell_type": "code",
   "execution_count": 24,
   "metadata": {},
   "outputs": [
    {
     "ename": "NameError",
     "evalue": "name 'features_col' is not defined",
     "output_type": "error",
     "traceback": [
      "\u001b[1;31m---------------------------------------------------------------------------\u001b[0m",
      "\u001b[1;31mNameError\u001b[0m                                 Traceback (most recent call last)",
      "\u001b[1;32m<ipython-input-24-de344a6ef5bd>\u001b[0m in \u001b[0;36m<module>\u001b[1;34m\u001b[0m\n\u001b[0;32m      6\u001b[0m \u001b[1;32mfrom\u001b[0m \u001b[0msklearn\u001b[0m \u001b[1;32mimport\u001b[0m \u001b[0mpreprocessing\u001b[0m\u001b[1;33m\u001b[0m\u001b[1;33m\u001b[0m\u001b[0m\n\u001b[0;32m      7\u001b[0m \u001b[1;33m\u001b[0m\u001b[0m\n\u001b[1;32m----> 8\u001b[1;33m \u001b[0mpreprocessing_features\u001b[0m \u001b[1;33m=\u001b[0m \u001b[0mpreprocessing\u001b[0m\u001b[1;33m.\u001b[0m\u001b[0mscale\u001b[0m\u001b[1;33m(\u001b[0m\u001b[0mfeatures_col\u001b[0m\u001b[1;33m)\u001b[0m\u001b[1;33m\u001b[0m\u001b[1;33m\u001b[0m\u001b[0m\n\u001b[0m\u001b[0;32m      9\u001b[0m \u001b[0mpreprocessing_features\u001b[0m\u001b[1;33m\u001b[0m\u001b[1;33m\u001b[0m\u001b[0m\n\u001b[0;32m     10\u001b[0m \u001b[1;33m\u001b[0m\u001b[0m\n",
      "\u001b[1;31mNameError\u001b[0m: name 'features_col' is not defined"
     ]
    }
   ],
   "source": [
    "from keras.utils import np_utils\n",
    "from keras.models import Sequential\n",
    "from keras.layers import Dense, Dropout, Activation, Flatten\n",
    "from sklearn.neural_network import MLPClassifier\n",
    "\n",
    "from sklearn import preprocessing\n",
    "\n",
    "preprocessing_features = preprocessing.scale(features_col)\n",
    "preprocessing_features\n",
    "\n",
    "my_ANN = MLPClassifier(hidden_layer_sizes=(30,), activation= 'logistic', \n",
    "                       solver='adam', alpha=1, random_state=1, \n",
    "                       learning_rate_init = 0.02, verbose=True)\n",
    "\n",
    "from sklearn.model_selection import cross_val_score\n",
    "accuracy_list = cross_val_score(my_ANN, preprocessing_features, y, cv=10, scoring='accuracy')"
   ]
  },
  {
   "cell_type": "code",
   "execution_count": null,
   "metadata": {},
   "outputs": [],
   "source": [
    "from sklearn.model_selection import GridSearchCV\n",
    "import numpy as np\n",
    "\n",
    "seed = 2\n",
    "np.random.seed(seed)\n",
    "\n",
    "model = KerasClassifier(build_fn = model_creator, verbose=2)\n",
    "\n",
    "\n",
    "batch_size = [30 , 50 , 100 ]\n",
    "epochs = [10 , 15 , 20]\n",
    "\n",
    "param_grid = dict(batch_size=batch_size, epochs=epochs)\n",
    "grid = GridSearchCV(model, param_grid, cv=10, scoring='neg_log_loss')\n"
   ]
  },
  {
   "cell_type": "code",
   "execution_count": null,
   "metadata": {},
   "outputs": [],
   "source": [
    "my_grid = grid.fit(X_train, y_train)\n",
    "\n",
    "print(\"best: %f with %s\" % (my_grid.best_score_, my_grid.best_params_))"
   ]
  }
 ],
 "metadata": {
  "kernelspec": {
   "display_name": "Python 3",
   "language": "python",
   "name": "python3"
  },
  "language_info": {
   "codemirror_mode": {
    "name": "ipython",
    "version": 3
   },
   "file_extension": ".py",
   "mimetype": "text/x-python",
   "name": "python",
   "nbconvert_exporter": "python",
   "pygments_lexer": "ipython3",
   "version": "3.7.4"
  }
 },
 "nbformat": 4,
 "nbformat_minor": 4
}
