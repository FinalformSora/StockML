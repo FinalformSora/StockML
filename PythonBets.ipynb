{
 "cells": [
  {
   "cell_type": "code",
   "execution_count": 93,
   "metadata": {},
   "outputs": [],
   "source": [
    "from sklearn.linear_model import LogisticRegression\n",
    "from sklearn.neighbors import KNeighborsClassifier\n",
    "from sklearn.tree import DecisionTreeClassifier\n",
    "from sklearn.ensemble import RandomForestClassifier\n",
    "from sklearn.linear_model import LinearRegression\n",
    "from sklearn.model_selection import cross_val_score\n",
    "from sklearn.metrics import accuracy_score\n",
    "import sklearn.metrics as metrics\n",
    "from xgboost import XGBClassifier\n",
    "from sklearn.ensemble import AdaBoostClassifier\n",
    "from sklearn.preprocessing import OneHotEncoder\n",
    "\n",
    "from  keras.wrappers.scikit_learn  import  KerasClassifier\n",
    "from  sklearn.model_selection  import  GridSearchCV\n",
    "\n",
    "import numpy as np\n",
    "import pandas as pd"
   ]
  },
  {
   "cell_type": "code",
   "execution_count": 96,
   "metadata": {},
   "outputs": [
    {
     "data": {
      "text/plain": [
       "53520"
      ]
     },
     "execution_count": 96,
     "metadata": {},
     "output_type": "execute_result"
    }
   ],
   "source": [
    "#part A)\n",
    "df = pd.read_csv(\"https://raw.githubusercontent.com/FinalformSora/StockML/main/stocks%20v1%20-%20master%20sheet.csv\")\n",
    "df[0::24]\n",
    "df.size"
   ]
  },
  {
   "cell_type": "code",
   "execution_count": 97,
   "metadata": {},
   "outputs": [
    {
     "data": {
      "text/html": [
       "<div>\n",
       "<style scoped>\n",
       "    .dataframe tbody tr th:only-of-type {\n",
       "        vertical-align: middle;\n",
       "    }\n",
       "\n",
       "    .dataframe tbody tr th {\n",
       "        vertical-align: top;\n",
       "    }\n",
       "\n",
       "    .dataframe thead th {\n",
       "        text-align: right;\n",
       "    }\n",
       "</style>\n",
       "<table border=\"1\" class=\"dataframe\">\n",
       "  <thead>\n",
       "    <tr style=\"text-align: right;\">\n",
       "      <th></th>\n",
       "      <th>Date</th>\n",
       "      <th>Stock name</th>\n",
       "      <th>Open</th>\n",
       "      <th>High</th>\n",
       "      <th>Low</th>\n",
       "      <th>Close*</th>\n",
       "      <th>Adj Close**</th>\n",
       "      <th>Volume</th>\n",
       "      <th>average volume per stock</th>\n",
       "      <th>Higher or lower then average volume</th>\n",
       "      <th>...</th>\n",
       "      <th>Volitity (1 or 0)</th>\n",
       "      <th>mv50</th>\n",
       "      <th>Higher MV50</th>\n",
       "      <th>Higher than MVA50</th>\n",
       "      <th>MV100</th>\n",
       "      <th>Higher MVA100</th>\n",
       "      <th>Higher than MVA100</th>\n",
       "      <th>EMA 50</th>\n",
       "      <th>Higher then EMVA</th>\n",
       "      <th>Higher than EMVA 1</th>\n",
       "    </tr>\n",
       "  </thead>\n",
       "  <tbody>\n",
       "    <tr>\n",
       "      <th>0</th>\n",
       "      <td>44294.0</td>\n",
       "      <td>S&amp;P500</td>\n",
       "      <td>4089.95</td>\n",
       "      <td>4098.19</td>\n",
       "      <td>4082.54</td>\n",
       "      <td>4097.17</td>\n",
       "      <td>4097.17</td>\n",
       "      <td>3.901910e+09</td>\n",
       "      <td>4.358682e+09</td>\n",
       "      <td>No</td>\n",
       "      <td>...</td>\n",
       "      <td>0</td>\n",
       "      <td>3906.56</td>\n",
       "      <td>Yes</td>\n",
       "      <td>1</td>\n",
       "      <td>3893.72</td>\n",
       "      <td>Yes</td>\n",
       "      <td>1</td>\n",
       "      <td>3909.06</td>\n",
       "      <td>No</td>\n",
       "      <td>0</td>\n",
       "    </tr>\n",
       "    <tr>\n",
       "      <th>1</th>\n",
       "      <td>44293.0</td>\n",
       "      <td>S&amp;P500</td>\n",
       "      <td>4074.29</td>\n",
       "      <td>4083.13</td>\n",
       "      <td>4068.31</td>\n",
       "      <td>4079.95</td>\n",
       "      <td>4079.95</td>\n",
       "      <td>4.112640e+09</td>\n",
       "      <td>4.358682e+09</td>\n",
       "      <td>No</td>\n",
       "      <td>...</td>\n",
       "      <td>0</td>\n",
       "      <td>3901.61</td>\n",
       "      <td>Yes</td>\n",
       "      <td>1</td>\n",
       "      <td>3888.90</td>\n",
       "      <td>Yes</td>\n",
       "      <td>1</td>\n",
       "      <td>3901.39</td>\n",
       "      <td>No</td>\n",
       "      <td>0</td>\n",
       "    </tr>\n",
       "    <tr>\n",
       "      <th>2</th>\n",
       "      <td>44292.0</td>\n",
       "      <td>S&amp;P500</td>\n",
       "      <td>4075.57</td>\n",
       "      <td>4086.23</td>\n",
       "      <td>4068.14</td>\n",
       "      <td>4073.94</td>\n",
       "      <td>4073.94</td>\n",
       "      <td>4.027880e+09</td>\n",
       "      <td>4.358682e+09</td>\n",
       "      <td>No</td>\n",
       "      <td>...</td>\n",
       "      <td>0</td>\n",
       "      <td>3897.12</td>\n",
       "      <td>Yes</td>\n",
       "      <td>1</td>\n",
       "      <td>3883.46</td>\n",
       "      <td>Yes</td>\n",
       "      <td>1</td>\n",
       "      <td>3894.10</td>\n",
       "      <td>No</td>\n",
       "      <td>0</td>\n",
       "    </tr>\n",
       "    <tr>\n",
       "      <th>3</th>\n",
       "      <td>44291.0</td>\n",
       "      <td>S&amp;P500</td>\n",
       "      <td>4034.44</td>\n",
       "      <td>4083.42</td>\n",
       "      <td>4034.44</td>\n",
       "      <td>4077.91</td>\n",
       "      <td>4077.91</td>\n",
       "      <td>3.999760e+09</td>\n",
       "      <td>4.358682e+09</td>\n",
       "      <td>No</td>\n",
       "      <td>...</td>\n",
       "      <td>0</td>\n",
       "      <td>3892.47</td>\n",
       "      <td>Yes</td>\n",
       "      <td>1</td>\n",
       "      <td>3878.31</td>\n",
       "      <td>Yes</td>\n",
       "      <td>1</td>\n",
       "      <td>3886.76</td>\n",
       "      <td>No</td>\n",
       "      <td>0</td>\n",
       "    </tr>\n",
       "    <tr>\n",
       "      <th>4</th>\n",
       "      <td>44287.0</td>\n",
       "      <td>S&amp;P500</td>\n",
       "      <td>3992.78</td>\n",
       "      <td>4020.63</td>\n",
       "      <td>3992.78</td>\n",
       "      <td>4019.87</td>\n",
       "      <td>4019.87</td>\n",
       "      <td>4.151240e+09</td>\n",
       "      <td>4.358682e+09</td>\n",
       "      <td>No</td>\n",
       "      <td>...</td>\n",
       "      <td>0</td>\n",
       "      <td>3887.97</td>\n",
       "      <td>Yes</td>\n",
       "      <td>1</td>\n",
       "      <td>3873.07</td>\n",
       "      <td>Yes</td>\n",
       "      <td>1</td>\n",
       "      <td>3878.96</td>\n",
       "      <td>No</td>\n",
       "      <td>0</td>\n",
       "    </tr>\n",
       "    <tr>\n",
       "      <th>...</th>\n",
       "      <td>...</td>\n",
       "      <td>...</td>\n",
       "      <td>...</td>\n",
       "      <td>...</td>\n",
       "      <td>...</td>\n",
       "      <td>...</td>\n",
       "      <td>...</td>\n",
       "      <td>...</td>\n",
       "      <td>...</td>\n",
       "      <td>...</td>\n",
       "      <td>...</td>\n",
       "      <td>...</td>\n",
       "      <td>...</td>\n",
       "      <td>...</td>\n",
       "      <td>...</td>\n",
       "      <td>...</td>\n",
       "      <td>...</td>\n",
       "      <td>...</td>\n",
       "      <td>...</td>\n",
       "      <td>...</td>\n",
       "      <td>...</td>\n",
       "    </tr>\n",
       "    <tr>\n",
       "      <th>2225</th>\n",
       "      <td>44286.0</td>\n",
       "      <td>CokeCola</td>\n",
       "      <td>294.35</td>\n",
       "      <td>297.74</td>\n",
       "      <td>288.59</td>\n",
       "      <td>288.78</td>\n",
       "      <td>288.78</td>\n",
       "      <td>3.410000e+04</td>\n",
       "      <td>4.625314e+04</td>\n",
       "      <td>No</td>\n",
       "      <td>...</td>\n",
       "      <td>0</td>\n",
       "      <td>276.98</td>\n",
       "      <td>Yes</td>\n",
       "      <td>1</td>\n",
       "      <td>272.16</td>\n",
       "      <td>Yes</td>\n",
       "      <td>1</td>\n",
       "      <td>280.08</td>\n",
       "      <td>No</td>\n",
       "      <td>0</td>\n",
       "    </tr>\n",
       "    <tr>\n",
       "      <th>2226</th>\n",
       "      <td>44287.0</td>\n",
       "      <td>CokeCola</td>\n",
       "      <td>287.78</td>\n",
       "      <td>289.94</td>\n",
       "      <td>286.95</td>\n",
       "      <td>289.17</td>\n",
       "      <td>289.17</td>\n",
       "      <td>2.280000e+04</td>\n",
       "      <td>4.625314e+04</td>\n",
       "      <td>No</td>\n",
       "      <td>...</td>\n",
       "      <td>0</td>\n",
       "      <td>277.64</td>\n",
       "      <td>Yes</td>\n",
       "      <td>1</td>\n",
       "      <td>272.73</td>\n",
       "      <td>Yes</td>\n",
       "      <td>1</td>\n",
       "      <td>280.43</td>\n",
       "      <td>No</td>\n",
       "      <td>0</td>\n",
       "    </tr>\n",
       "    <tr>\n",
       "      <th>2227</th>\n",
       "      <td>44291.0</td>\n",
       "      <td>CokeCola</td>\n",
       "      <td>288.15</td>\n",
       "      <td>298.87</td>\n",
       "      <td>288.00</td>\n",
       "      <td>295.19</td>\n",
       "      <td>295.19</td>\n",
       "      <td>3.000000e+04</td>\n",
       "      <td>4.625314e+04</td>\n",
       "      <td>No</td>\n",
       "      <td>...</td>\n",
       "      <td>0</td>\n",
       "      <td>278.39</td>\n",
       "      <td>Yes</td>\n",
       "      <td>1</td>\n",
       "      <td>273.27</td>\n",
       "      <td>Yes</td>\n",
       "      <td>1</td>\n",
       "      <td>281.01</td>\n",
       "      <td>No</td>\n",
       "      <td>0</td>\n",
       "    </tr>\n",
       "    <tr>\n",
       "      <th>2228</th>\n",
       "      <td>44292.0</td>\n",
       "      <td>CokeCola</td>\n",
       "      <td>297.62</td>\n",
       "      <td>301.77</td>\n",
       "      <td>296.14</td>\n",
       "      <td>296.36</td>\n",
       "      <td>296.36</td>\n",
       "      <td>2.140000e+04</td>\n",
       "      <td>4.625314e+04</td>\n",
       "      <td>No</td>\n",
       "      <td>...</td>\n",
       "      <td>0</td>\n",
       "      <td>279.07</td>\n",
       "      <td>Yes</td>\n",
       "      <td>1</td>\n",
       "      <td>273.86</td>\n",
       "      <td>Yes</td>\n",
       "      <td>1</td>\n",
       "      <td>281.61</td>\n",
       "      <td>No</td>\n",
       "      <td>0</td>\n",
       "    </tr>\n",
       "    <tr>\n",
       "      <th>2229</th>\n",
       "      <td>44293.0</td>\n",
       "      <td>CokeCola</td>\n",
       "      <td>297.43</td>\n",
       "      <td>299.02</td>\n",
       "      <td>293.63</td>\n",
       "      <td>295.80</td>\n",
       "      <td>295.80</td>\n",
       "      <td>1.900000e+04</td>\n",
       "      <td>4.625314e+04</td>\n",
       "      <td>No</td>\n",
       "      <td>...</td>\n",
       "      <td>0</td>\n",
       "      <td>279.65</td>\n",
       "      <td>Yes</td>\n",
       "      <td>1</td>\n",
       "      <td>274.39</td>\n",
       "      <td>Yes</td>\n",
       "      <td>1</td>\n",
       "      <td>282.17</td>\n",
       "      <td>No</td>\n",
       "      <td>0</td>\n",
       "    </tr>\n",
       "  </tbody>\n",
       "</table>\n",
       "<p>2230 rows × 24 columns</p>\n",
       "</div>"
      ],
      "text/plain": [
       "         Date Stock name     Open     High      Low   Close*  Adj Close**  \\\n",
       "0     44294.0     S&P500  4089.95  4098.19  4082.54  4097.17      4097.17   \n",
       "1     44293.0     S&P500  4074.29  4083.13  4068.31  4079.95      4079.95   \n",
       "2     44292.0     S&P500  4075.57  4086.23  4068.14  4073.94      4073.94   \n",
       "3     44291.0     S&P500  4034.44  4083.42  4034.44  4077.91      4077.91   \n",
       "4     44287.0     S&P500  3992.78  4020.63  3992.78  4019.87      4019.87   \n",
       "...       ...        ...      ...      ...      ...      ...          ...   \n",
       "2225  44286.0   CokeCola   294.35   297.74   288.59   288.78       288.78   \n",
       "2226  44287.0   CokeCola   287.78   289.94   286.95   289.17       289.17   \n",
       "2227  44291.0   CokeCola   288.15   298.87   288.00   295.19       295.19   \n",
       "2228  44292.0   CokeCola   297.62   301.77   296.14   296.36       296.36   \n",
       "2229  44293.0   CokeCola   297.43   299.02   293.63   295.80       295.80   \n",
       "\n",
       "            Volume  average volume per stock  \\\n",
       "0     3.901910e+09              4.358682e+09   \n",
       "1     4.112640e+09              4.358682e+09   \n",
       "2     4.027880e+09              4.358682e+09   \n",
       "3     3.999760e+09              4.358682e+09   \n",
       "4     4.151240e+09              4.358682e+09   \n",
       "...            ...                       ...   \n",
       "2225  3.410000e+04              4.625314e+04   \n",
       "2226  2.280000e+04              4.625314e+04   \n",
       "2227  3.000000e+04              4.625314e+04   \n",
       "2228  2.140000e+04              4.625314e+04   \n",
       "2229  1.900000e+04              4.625314e+04   \n",
       "\n",
       "     Higher or lower then average volume  ...  Volitity (1 or 0)     mv50  \\\n",
       "0                                     No  ...                  0  3906.56   \n",
       "1                                     No  ...                  0  3901.61   \n",
       "2                                     No  ...                  0  3897.12   \n",
       "3                                     No  ...                  0  3892.47   \n",
       "4                                     No  ...                  0  3887.97   \n",
       "...                                  ...  ...                ...      ...   \n",
       "2225                                  No  ...                  0   276.98   \n",
       "2226                                  No  ...                  0   277.64   \n",
       "2227                                  No  ...                  0   278.39   \n",
       "2228                                  No  ...                  0   279.07   \n",
       "2229                                  No  ...                  0   279.65   \n",
       "\n",
       "      Higher MV50 Higher than MVA50    MV100  Higher MVA100  \\\n",
       "0             Yes                 1  3893.72            Yes   \n",
       "1             Yes                 1  3888.90            Yes   \n",
       "2             Yes                 1  3883.46            Yes   \n",
       "3             Yes                 1  3878.31            Yes   \n",
       "4             Yes                 1  3873.07            Yes   \n",
       "...           ...               ...      ...            ...   \n",
       "2225          Yes                 1   272.16            Yes   \n",
       "2226          Yes                 1   272.73            Yes   \n",
       "2227          Yes                 1   273.27            Yes   \n",
       "2228          Yes                 1   273.86            Yes   \n",
       "2229          Yes                 1   274.39            Yes   \n",
       "\n",
       "     Higher than MVA100   EMA 50  Higher then EMVA Higher than EMVA 1  \n",
       "0                     1  3909.06                No                  0  \n",
       "1                     1  3901.39                No                  0  \n",
       "2                     1  3894.10                No                  0  \n",
       "3                     1  3886.76                No                  0  \n",
       "4                     1  3878.96                No                  0  \n",
       "...                 ...      ...               ...                ...  \n",
       "2225                  1   280.08                No                  0  \n",
       "2226                  1   280.43                No                  0  \n",
       "2227                  1   281.01                No                  0  \n",
       "2228                  1   281.61                No                  0  \n",
       "2229                  1   282.17                No                  0  \n",
       "\n",
       "[2230 rows x 24 columns]"
      ]
     },
     "execution_count": 97,
     "metadata": {},
     "output_type": "execute_result"
    }
   ],
   "source": [
    "#Data that  has been parsed and cleaned up\n",
    "#Had to create a moving average for 50 day and 100 day. It requres calculation of previous days and finding the average\n",
    "#increase is based on CLose-Open= if it equals positive its a true on increase\n",
    "#AMD news is based on press release released by amd on their site. I had to manual add this in cause no site has this information parsed\n",
    "#quarterly earning is also gather by searching the web for this release date\n",
    "df"
   ]
  },
  {
   "cell_type": "code",
   "execution_count": 92,
   "metadata": {},
   "outputs": [
    {
     "ename": "AttributeError",
     "evalue": "'DataFrame' object has no attribute 'value_counts'",
     "output_type": "error",
     "traceback": [
      "\u001b[1;31m---------------------------------------------------------------------------\u001b[0m",
      "\u001b[1;31mAttributeError\u001b[0m                            Traceback (most recent call last)",
      "\u001b[1;32m<ipython-input-92-772f665ec55e>\u001b[0m in \u001b[0;36m<module>\u001b[1;34m\u001b[0m\n\u001b[1;32m----> 1\u001b[1;33m \u001b[0mdf\u001b[0m\u001b[1;33m.\u001b[0m\u001b[0mvalue_counts\u001b[0m\u001b[1;33m(\u001b[0m\u001b[1;33m)\u001b[0m\u001b[1;33m\u001b[0m\u001b[1;33m\u001b[0m\u001b[0m\n\u001b[0m\u001b[0;32m      2\u001b[0m \u001b[1;31m##cleanup_StockName = {\"Stock name\": {\"CokeCola\": 1, \"S&P500\": 2,\"Apple\": 3,\"Gamestop\":4}}\u001b[0m\u001b[1;33m\u001b[0m\u001b[1;33m\u001b[0m\u001b[1;33m\u001b[0m\u001b[0m\n\u001b[0;32m      3\u001b[0m \u001b[1;31m##df = df.replace(cleanup_StockName)\u001b[0m\u001b[1;33m\u001b[0m\u001b[1;33m\u001b[0m\u001b[1;33m\u001b[0m\u001b[0m\n\u001b[0;32m      4\u001b[0m \u001b[1;31m##df.head()\u001b[0m\u001b[1;33m\u001b[0m\u001b[1;33m\u001b[0m\u001b[1;33m\u001b[0m\u001b[0m\n",
      "\u001b[1;32m~\\anaconda3\\lib\\site-packages\\pandas\\core\\generic.py\u001b[0m in \u001b[0;36m__getattr__\u001b[1;34m(self, name)\u001b[0m\n\u001b[0;32m   5272\u001b[0m             \u001b[1;32mif\u001b[0m \u001b[0mself\u001b[0m\u001b[1;33m.\u001b[0m\u001b[0m_info_axis\u001b[0m\u001b[1;33m.\u001b[0m\u001b[0m_can_hold_identifiers_and_holds_name\u001b[0m\u001b[1;33m(\u001b[0m\u001b[0mname\u001b[0m\u001b[1;33m)\u001b[0m\u001b[1;33m:\u001b[0m\u001b[1;33m\u001b[0m\u001b[1;33m\u001b[0m\u001b[0m\n\u001b[0;32m   5273\u001b[0m                 \u001b[1;32mreturn\u001b[0m \u001b[0mself\u001b[0m\u001b[1;33m[\u001b[0m\u001b[0mname\u001b[0m\u001b[1;33m]\u001b[0m\u001b[1;33m\u001b[0m\u001b[1;33m\u001b[0m\u001b[0m\n\u001b[1;32m-> 5274\u001b[1;33m             \u001b[1;32mreturn\u001b[0m \u001b[0mobject\u001b[0m\u001b[1;33m.\u001b[0m\u001b[0m__getattribute__\u001b[0m\u001b[1;33m(\u001b[0m\u001b[0mself\u001b[0m\u001b[1;33m,\u001b[0m \u001b[0mname\u001b[0m\u001b[1;33m)\u001b[0m\u001b[1;33m\u001b[0m\u001b[1;33m\u001b[0m\u001b[0m\n\u001b[0m\u001b[0;32m   5275\u001b[0m \u001b[1;33m\u001b[0m\u001b[0m\n\u001b[0;32m   5276\u001b[0m     \u001b[1;32mdef\u001b[0m \u001b[0m__setattr__\u001b[0m\u001b[1;33m(\u001b[0m\u001b[0mself\u001b[0m\u001b[1;33m,\u001b[0m \u001b[0mname\u001b[0m\u001b[1;33m:\u001b[0m \u001b[0mstr\u001b[0m\u001b[1;33m,\u001b[0m \u001b[0mvalue\u001b[0m\u001b[1;33m)\u001b[0m \u001b[1;33m->\u001b[0m \u001b[1;32mNone\u001b[0m\u001b[1;33m:\u001b[0m\u001b[1;33m\u001b[0m\u001b[1;33m\u001b[0m\u001b[0m\n",
      "\u001b[1;31mAttributeError\u001b[0m: 'DataFrame' object has no attribute 'value_counts'"
     ]
    }
   ],
   "source": [
    "df.value_counts()\n",
    "##cleanup_StockName = {\"Stock name\": {\"CokeCola\": 1, \"S&P500\": 2,\"Apple\": 3,\"Gamestop\":4}}\n",
    "##df = df.replace(cleanup_StockName)\n",
    "##df.head()"
   ]
  },
  {
   "cell_type": "code",
   "execution_count": null,
   "metadata": {},
   "outputs": [],
   "source": [
    "df"
   ]
  },
  {
   "cell_type": "code",
   "execution_count": 84,
   "metadata": {},
   "outputs": [
    {
     "data": {
      "text/html": [
       "<div>\n",
       "<style scoped>\n",
       "    .dataframe tbody tr th:only-of-type {\n",
       "        vertical-align: middle;\n",
       "    }\n",
       "\n",
       "    .dataframe tbody tr th {\n",
       "        vertical-align: top;\n",
       "    }\n",
       "\n",
       "    .dataframe thead th {\n",
       "        text-align: right;\n",
       "    }\n",
       "</style>\n",
       "<table border=\"1\" class=\"dataframe\">\n",
       "  <thead>\n",
       "    <tr style=\"text-align: right;\">\n",
       "      <th></th>\n",
       "      <th>Stock name</th>\n",
       "      <th>Volume avg</th>\n",
       "      <th>Volitity (1 or 0)</th>\n",
       "    </tr>\n",
       "  </thead>\n",
       "  <tbody>\n",
       "    <tr>\n",
       "      <th>0</th>\n",
       "      <td>2</td>\n",
       "      <td>0</td>\n",
       "      <td>0</td>\n",
       "    </tr>\n",
       "    <tr>\n",
       "      <th>1</th>\n",
       "      <td>2</td>\n",
       "      <td>0</td>\n",
       "      <td>0</td>\n",
       "    </tr>\n",
       "    <tr>\n",
       "      <th>2</th>\n",
       "      <td>2</td>\n",
       "      <td>0</td>\n",
       "      <td>0</td>\n",
       "    </tr>\n",
       "    <tr>\n",
       "      <th>3</th>\n",
       "      <td>2</td>\n",
       "      <td>0</td>\n",
       "      <td>0</td>\n",
       "    </tr>\n",
       "    <tr>\n",
       "      <th>4</th>\n",
       "      <td>2</td>\n",
       "      <td>0</td>\n",
       "      <td>0</td>\n",
       "    </tr>\n",
       "  </tbody>\n",
       "</table>\n",
       "</div>"
      ],
      "text/plain": [
       "   Stock name  Volume avg  Volitity (1 or 0)\n",
       "0           2           0                  0\n",
       "1           2           0                  0\n",
       "2           2           0                  0\n",
       "3           2           0                  0\n",
       "4           2           0                  0"
      ]
     },
     "execution_count": 84,
     "metadata": {},
     "output_type": "execute_result"
    }
   ],
   "source": [
    "#feature_cols = ['Volume','50 moving day average (1 or 0)','100 day moving average (1 or 0)','AMD News (1 or 0)','Quarterly earnings (1 or 0)']\n",
    "\n",
    "\n",
    "feature_cols = ['Stock name','Volume avg','Volitity (1 or 0)']\n",
    "X = df[feature_cols]\n",
    "X.head()\n",
    "\n"
   ]
  },
  {
   "cell_type": "code",
   "execution_count": 85,
   "metadata": {},
   "outputs": [],
   "source": [
    "#created the label based on if the stock increased or did not increase"
   ]
  },
  {
   "cell_type": "code",
   "execution_count": 98,
   "metadata": {
    "scrolled": true
   },
   "outputs": [
    {
     "data": {
      "text/plain": [
       "0       1\n",
       "25      0\n",
       "50      0\n",
       "75      1\n",
       "100     1\n",
       "       ..\n",
       "2125    0\n",
       "2150    1\n",
       "2175    0\n",
       "2200    1\n",
       "2225    0\n",
       "Name: higher closing 0 or 1, Length: 90, dtype: int64"
      ]
     },
     "execution_count": 98,
     "metadata": {},
     "output_type": "execute_result"
    }
   ],
   "source": [
    "y = df['higher closing 0 or 1']\n",
    "y[::25]"
   ]
  },
  {
   "cell_type": "code",
   "execution_count": 99,
   "metadata": {},
   "outputs": [],
   "source": [
    "#calling all the classifers\n",
    "my_logreg = LogisticRegression()\n",
    "my_decisiontree = DecisionTreeClassifier()\n",
    "knn = KNeighborsClassifier(n_neighbors=4)\n",
    "my_RandomForest = RandomForestClassifier()\n",
    "my_linreg = LinearRegression()\n",
    "my_AdaBoost = AdaBoostClassifier(n_estimators = 29,random_state=2)\n",
    "my_XGBoost = XGBClassifier(n_estimators = 29,random_state=2)\n"
   ]
  },
  {
   "cell_type": "code",
   "execution_count": 100,
   "metadata": {},
   "outputs": [],
   "source": [
    "#seting up train set\n",
    "from sklearn.model_selection import train_test_split\n",
    "X_train, X_test, y_train, y_test = train_test_split(X, y, test_size=0.25, random_state=5)"
   ]
  },
  {
   "cell_type": "code",
   "execution_count": null,
   "metadata": {},
   "outputs": [],
   "source": []
  },
  {
   "cell_type": "code",
   "execution_count": 102,
   "metadata": {},
   "outputs": [
    {
     "data": {
      "text/plain": [
       "AdaBoostClassifier(n_estimators=29, random_state=2)"
      ]
     },
     "execution_count": 102,
     "metadata": {},
     "output_type": "execute_result"
    }
   ],
   "source": [
    "# training sets\n",
    "\n",
    "knn.fit(X_train, y_train)\n",
    "my_logreg.fit(X_train, y_train)\n",
    "my_RandomForest.fit(X_train, y_train)\n",
    "my_decisiontree.fit(X_train, y_train)\n",
    "my_linreg.fit(X_train, y_train)\n",
    "my_AdaBoost.fit(X_train,y_train)\n",
    "##my_XGBoost.fit(X_train,y_train)\n"
   ]
  },
  {
   "cell_type": "code",
   "execution_count": 103,
   "metadata": {},
   "outputs": [],
   "source": [
    "#Training\n",
    "y_predict_lor = my_logreg.predict(X_test)\n",
    "y_predict = knn.predict(X_test)\n",
    "y_predict_dt = my_decisiontree.predict(X_test)\n",
    "y_predict_rt = my_RandomForest.predict(X_test)\n",
    "y_predict_LR = my_linreg.predict(X_test)\n",
    "y_predict_AB = my_AdaBoost.predict(X_test)\n",
    "y_predict_XB = my_XGBoost.predict(X_test)\n"
   ]
  },
  {
   "cell_type": "code",
   "execution_count": 104,
   "metadata": {},
   "outputs": [
    {
     "name": "stdout",
     "output_type": "stream",
     "text": [
      "Linear Regression 0.5003350862794591\n",
      "LogisticRegression:  0.5017921146953405\n",
      "Decision Tree:  0.5268817204301075\n",
      "Random Forest:  0.5268817204301075\n",
      "knn:  0.45340501792114696\n",
      "AdaBoost:  0.517921146953405\n",
      "XGBoost:  0.5268817204301075\n"
     ]
    }
   ],
   "source": [
    "#accuracy of the perdiction\n",
    "from sklearn.metrics import accuracy_score\n",
    "\n",
    "score_lor = accuracy_score(y_test, y_predict_lor)\n",
    "score_dt = accuracy_score(y_test, y_predict_dt)\n",
    "accuracy = accuracy_score(y_test, y_predict)\n",
    "score_rt = accuracy_score(y_test,y_predict_rt)\n",
    "score_AB = accuracy_score(y_test, y_predict_AB)\n",
    "score_XB = accuracy_score(y_test, y_predict_XB)\n",
    "\n",
    "y_predict_LR = my_linreg.predict(X_test)\n",
    "mse = metrics.mean_squared_error(y_test, y_predict_LR)\n",
    "rmse = np.sqrt(mse)\n",
    "print(\"Linear Regression\",rmse)\n",
    "print('LogisticRegression: ',score_lor)\n",
    "print(\"Decision Tree: \",score_dt)\n",
    "print(\"Random Forest: \",score_rt)\n",
    "print(\"knn: \",accuracy)\n",
    "print(\"AdaBoost: \",score_AB)\n",
    "print(\"XGBoost: \",score_XB)\n"
   ]
  },
  {
   "cell_type": "code",
   "execution_count": 105,
   "metadata": {},
   "outputs": [],
   "source": [
    "#Cross validation of all Classifers"
   ]
  },
  {
   "cell_type": "code",
   "execution_count": 106,
   "metadata": {},
   "outputs": [
    {
     "name": "stdout",
     "output_type": "stream",
     "text": [
      "Logistic Regression:  0.3834080717488789\n"
     ]
    }
   ],
   "source": [
    "accuracy_list = cross_val_score(my_logreg, X, y, cv=10, scoring='accuracy')\n",
    "accuracy_cv = accuracy_list.mean()\n",
    "print(\"Logistic Regression: \",accuracy_cv)"
   ]
  },
  {
   "cell_type": "code",
   "execution_count": 107,
   "metadata": {},
   "outputs": [
    {
     "name": "stdout",
     "output_type": "stream",
     "text": [
      "Random Forest:  0.4475336322869955\n"
     ]
    }
   ],
   "source": [
    "accuracy_list = cross_val_score(my_RandomForest, X, y, cv=10, scoring='accuracy')\n",
    "accuracy_cv = accuracy_list.mean()\n",
    "\n",
    "print(\"Random Forest: \",accuracy_cv)"
   ]
  },
  {
   "cell_type": "code",
   "execution_count": 108,
   "metadata": {},
   "outputs": [
    {
     "name": "stdout",
     "output_type": "stream",
     "text": [
      "KNN:  0.4502242152466368\n"
     ]
    }
   ],
   "source": [
    "accuracy_list = cross_val_score(knn, X, y, cv=10, scoring='accuracy')\n",
    "accuracy_cv = accuracy_list.mean()\n",
    "\n",
    "print(\"KNN: \",accuracy_cv)\n"
   ]
  },
  {
   "cell_type": "code",
   "execution_count": 109,
   "metadata": {},
   "outputs": [
    {
     "name": "stdout",
     "output_type": "stream",
     "text": [
      "decisiontree:  0.42735426008968613\n"
     ]
    }
   ],
   "source": [
    "accuracy_list = cross_val_score(my_decisiontree, X, y, cv=10, scoring='accuracy')\n",
    "accuracy_cv = accuracy_list.mean()\n",
    "\n",
    "print(\"decisiontree: \",accuracy_cv)"
   ]
  },
  {
   "cell_type": "code",
   "execution_count": 110,
   "metadata": {},
   "outputs": [
    {
     "name": "stdout",
     "output_type": "stream",
     "text": [
      "Linear Regression:  0.5029123528781592\n"
     ]
    }
   ],
   "source": [
    "mse_list = cross_val_score(my_linreg, X, y, cv=10, scoring='neg_mean_squared_error')\n",
    "mse_list_positive = -mse_list\n",
    "rmse_list = np.sqrt(mse_list_positive)\n",
    "print(\"Linear Regression: \",rmse_list.mean())\n"
   ]
  },
  {
   "cell_type": "code",
   "execution_count": 111,
   "metadata": {
    "scrolled": true
   },
   "outputs": [
    {
     "name": "stdout",
     "output_type": "stream",
     "text": [
      "Adaboost :  0.45739910313901344\n"
     ]
    }
   ],
   "source": [
    "accuracy_list = cross_val_score(my_AdaBoost, X, y, cv=10, scoring='accuracy')\n",
    "accuracy_ab = accuracy_list.mean()\n",
    "\n",
    "print(\"Adaboost : \",accuracy_ab)"
   ]
  },
  {
   "cell_type": "code",
   "execution_count": 112,
   "metadata": {},
   "outputs": [
    {
     "name": "stdout",
     "output_type": "stream",
     "text": [
      "[19:52:34] WARNING: C:/Users/Administrator/workspace/xgboost-win64_release_1.3.0/src/learner.cc:1061: Starting in XGBoost 1.3.0, the default evaluation metric used with the objective 'binary:logistic' was changed from 'error' to 'logloss'. Explicitly set eval_metric if you'd like to restore the old behavior.\n",
      "[19:52:34] WARNING: C:/Users/Administrator/workspace/xgboost-win64_release_1.3.0/src/learner.cc:1061: Starting in XGBoost 1.3.0, the default evaluation metric used with the objective 'binary:logistic' was changed from 'error' to 'logloss'. Explicitly set eval_metric if you'd like to restore the old behavior.\n",
      "[19:52:34] WARNING: C:/Users/Administrator/workspace/xgboost-win64_release_1.3.0/src/learner.cc:1061: Starting in XGBoost 1.3.0, the default evaluation metric used with the objective 'binary:logistic' was changed from 'error' to 'logloss'. Explicitly set eval_metric if you'd like to restore the old behavior.\n",
      "[19:52:34] WARNING: C:/Users/Administrator/workspace/xgboost-win64_release_1.3.0/src/learner.cc:1061: Starting in XGBoost 1.3.0, the default evaluation metric used with the objective 'binary:logistic' was changed from 'error' to 'logloss'. Explicitly set eval_metric if you'd like to restore the old behavior.\n",
      "[19:52:34] WARNING: C:/Users/Administrator/workspace/xgboost-win64_release_1.3.0/src/learner.cc:1061: Starting in XGBoost 1.3.0, the default evaluation metric used with the objective 'binary:logistic' was changed from 'error' to 'logloss'. Explicitly set eval_metric if you'd like to restore the old behavior.\n",
      "[19:52:34] WARNING: C:/Users/Administrator/workspace/xgboost-win64_release_1.3.0/src/learner.cc:1061: Starting in XGBoost 1.3.0, the default evaluation metric used with the objective 'binary:logistic' was changed from 'error' to 'logloss'. Explicitly set eval_metric if you'd like to restore the old behavior.\n",
      "[19:52:34] WARNING: C:/Users/Administrator/workspace/xgboost-win64_release_1.3.0/src/learner.cc:1061: Starting in XGBoost 1.3.0, the default evaluation metric used with the objective 'binary:logistic' was changed from 'error' to 'logloss'. Explicitly set eval_metric if you'd like to restore the old behavior.\n",
      "[19:52:34] WARNING: C:/Users/Administrator/workspace/xgboost-win64_release_1.3.0/src/learner.cc:1061: Starting in XGBoost 1.3.0, the default evaluation metric used with the objective 'binary:logistic' was changed from 'error' to 'logloss'. Explicitly set eval_metric if you'd like to restore the old behavior.\n",
      "[19:52:34] WARNING: C:/Users/Administrator/workspace/xgboost-win64_release_1.3.0/src/learner.cc:1061: Starting in XGBoost 1.3.0, the default evaluation metric used with the objective 'binary:logistic' was changed from 'error' to 'logloss'. Explicitly set eval_metric if you'd like to restore the old behavior.\n",
      "[19:52:34] WARNING: C:/Users/Administrator/workspace/xgboost-win64_release_1.3.0/src/learner.cc:1061: Starting in XGBoost 1.3.0, the default evaluation metric used with the objective 'binary:logistic' was changed from 'error' to 'logloss'. Explicitly set eval_metric if you'd like to restore the old behavior.\n",
      "XGBoost:  0.42735426008968613\n"
     ]
    },
    {
     "name": "stderr",
     "output_type": "stream",
     "text": [
      "C:\\Users\\Justin Nim\\anaconda3\\lib\\site-packages\\xgboost\\sklearn.py:888: UserWarning: The use of label encoder in XGBClassifier is deprecated and will be removed in a future release. To remove this warning, do the following: 1) Pass option use_label_encoder=False when constructing XGBClassifier object; and 2) Encode your labels (y) as integers starting with 0, i.e. 0, 1, 2, ..., [num_class - 1].\n",
      "  warnings.warn(label_encoder_deprecation_msg, UserWarning)\n"
     ]
    }
   ],
   "source": [
    "accuracy_list = cross_val_score(my_XGBoost, X, y, cv=10, scoring='accuracy')\n",
    "accuracy_XG = accuracy_list.mean()\n",
    "\n",
    "print(\"XGBoost: \",accuracy_XG)"
   ]
  },
  {
   "cell_type": "code",
   "execution_count": 113,
   "metadata": {},
   "outputs": [
    {
     "ename": "NameError",
     "evalue": "name 'preprocessing_features' is not defined",
     "output_type": "error",
     "traceback": [
      "\u001b[1;31m---------------------------------------------------------------------------\u001b[0m",
      "\u001b[1;31mNameError\u001b[0m                                 Traceback (most recent call last)",
      "\u001b[1;32m<ipython-input-113-2ce60ccc89bb>\u001b[0m in \u001b[0;36m<module>\u001b[1;34m\u001b[0m\n\u001b[0;32m     11\u001b[0m \u001b[1;33m\u001b[0m\u001b[0m\n\u001b[0;32m     12\u001b[0m \u001b[1;32mfrom\u001b[0m \u001b[0msklearn\u001b[0m\u001b[1;33m.\u001b[0m\u001b[0mmodel_selection\u001b[0m \u001b[1;32mimport\u001b[0m \u001b[0mcross_val_score\u001b[0m\u001b[1;33m\u001b[0m\u001b[1;33m\u001b[0m\u001b[0m\n\u001b[1;32m---> 13\u001b[1;33m \u001b[0maccuracy_list\u001b[0m \u001b[1;33m=\u001b[0m \u001b[0mcross_val_score\u001b[0m\u001b[1;33m(\u001b[0m\u001b[0mmy_ANN\u001b[0m\u001b[1;33m,\u001b[0m \u001b[0mpreprocessing_features\u001b[0m\u001b[1;33m,\u001b[0m \u001b[0my\u001b[0m\u001b[1;33m,\u001b[0m \u001b[0mcv\u001b[0m\u001b[1;33m=\u001b[0m\u001b[1;36m10\u001b[0m\u001b[1;33m,\u001b[0m \u001b[0mscoring\u001b[0m\u001b[1;33m=\u001b[0m\u001b[1;34m'accuracy'\u001b[0m\u001b[1;33m)\u001b[0m\u001b[1;33m\u001b[0m\u001b[1;33m\u001b[0m\u001b[0m\n\u001b[0m",
      "\u001b[1;31mNameError\u001b[0m: name 'preprocessing_features' is not defined"
     ]
    }
   ],
   "source": [
    "from keras.utils import np_utils\n",
    "from keras.models import Sequential\n",
    "from keras.layers import Dense, Dropout, Activation, Flatten\n",
    "from sklearn.neural_network import MLPClassifier\n",
    "\n",
    "from sklearn import preprocessing\n",
    "\n",
    "my_ANN = MLPClassifier(hidden_layer_sizes=(30,), activation= 'logistic', \n",
    "                       solver='adam', alpha=1, random_state=1, \n",
    "                       learning_rate_init = 0.02, verbose=True)\n",
    "\n",
    "from sklearn.model_selection import cross_val_score\n",
    "accuracy_list = cross_val_score(my_ANN, preprocessing_features, y, cv=10, scoring='accuracy')"
   ]
  },
  {
   "cell_type": "code",
   "execution_count": null,
   "metadata": {},
   "outputs": [],
   "source": [
    "from sklearn.model_selection import GridSearchCV\n",
    "import numpy as np\n",
    "\n",
    "seed = 2\n",
    "np.random.seed(seed)\n",
    "\n",
    "model = KerasClassifier(build_fn = model_creator, verbose=2)\n",
    "\n",
    "\n",
    "batch_size = [30 , 50 , 100 ]\n",
    "epochs = [10 , 15 , 20]\n",
    "\n",
    "param_grid = dict(batch_size=batch_size, epochs=epochs)\n",
    "grid = GridSearchCV(model, param_grid, cv=10, scoring='neg_log_loss')\n"
   ]
  },
  {
   "cell_type": "code",
   "execution_count": null,
   "metadata": {},
   "outputs": [],
   "source": [
    "my_grid = grid.fit(X_train, y_train)\n",
    "\n",
    "print(\"best: %f with %s\" % (my_grid.best_score_, my_grid.best_params_))"
   ]
  },
  {
   "cell_type": "code",
   "execution_count": null,
   "metadata": {},
   "outputs": [],
   "source": []
  }
 ],
 "metadata": {
  "kernelspec": {
   "display_name": "Python 3",
   "language": "python",
   "name": "python3"
  },
  "language_info": {
   "codemirror_mode": {
    "name": "ipython",
    "version": 3
   },
   "file_extension": ".py",
   "mimetype": "text/x-python",
   "name": "python",
   "nbconvert_exporter": "python",
   "pygments_lexer": "ipython3",
   "version": "3.8.3"
  }
 },
 "nbformat": 4,
 "nbformat_minor": 4
}
