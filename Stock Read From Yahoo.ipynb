{
 "cells": [
  {
   "cell_type": "code",
   "execution_count": 1,
   "metadata": {},
   "outputs": [],
   "source": [
    "#Installs and Yahoo Data grab"
   ]
  },
  {
   "cell_type": "code",
   "execution_count": 2,
   "metadata": {},
   "outputs": [],
   "source": [
    "import pandas as pd\n",
    "import numpy as np\n",
    "\n",
    "import matplotlib.pyplot as plt\n",
    "import seaborn as sns\n",
    "sns.set_style('whitegrid')\n",
    "plt.style.use(\"fivethirtyeight\")\n",
    "%matplotlib inline\n",
    "\n",
    "# For reading stock data from yahoo\n",
    "from pandas_datareader.data import DataReader\n",
    "\n",
    "# For time stamps\n",
    "from datetime import datetime"
   ]
  },
  {
   "cell_type": "code",
   "execution_count": 22,
   "metadata": {},
   "outputs": [],
   "source": [
    "# The tech stocks we'll use for this analysis\n",
    "            #Apple, GameStop, S&P,   AMD,  CocaCola, DOGE\n",
    "tech_list = ['AAPL', 'GME', '^GSPC', 'AMD', 'KO', 'DOGE-USD']\n",
    "\n",
    "# Set up End and Start times from start of Covid\n",
    "end = datetime.now()\n",
    "start = datetime(2019, 1, 22)\n",
    "\n",
    "\n",
    "#For loop for grabing yahoo finance data and setting as a dataframe\n",
    "for stock in tech_list:   \n",
    "    # Set DataFrame as the Stock Ticker\n",
    "    globals()[stock] = DataReader(stock, 'yahoo', start, end)"
   ]
  },
  {
   "cell_type": "code",
   "execution_count": 17,
   "metadata": {},
   "outputs": [
    {
     "data": {
      "text/plain": [
       "LabelEncoder()"
      ]
     },
     "execution_count": 17,
     "metadata": {},
     "output_type": "execute_result"
    }
   ],
   "source": [
    "from sklearn import preprocessing\n",
    "prep = preprocessing.LabelEncoder()\n",
    "prep.fit(tech_list)"
   ]
  },
  {
   "cell_type": "code",
   "execution_count": 26,
   "metadata": {},
   "outputs": [
    {
     "ename": "SyntaxError",
     "evalue": "invalid syntax (<ipython-input-26-bda989a1d35c>, line 1)",
     "output_type": "error",
     "traceback": [
      "\u001b[1;36m  File \u001b[1;32m\"<ipython-input-26-bda989a1d35c>\"\u001b[1;36m, line \u001b[1;32m1\u001b[0m\n\u001b[1;33m    company_list = [AAPL, GME, AMD, KO, DOGE'-'USD]\u001b[0m\n\u001b[1;37m                                              ^\u001b[0m\n\u001b[1;31mSyntaxError\u001b[0m\u001b[1;31m:\u001b[0m invalid syntax\n"
     ]
    }
   ],
   "source": [
    "company_list = [AAPL, GME, AMD, KO, DOGE-USD]\n",
    "company_name = [\"APPLE\", \"GameStop\", \"Advanced Micro Devices\",\"Coca-Cola\", \"Doggy\"]\n",
    "\n",
    "for company, com_name in zip(company_list, company_name):\n",
    "    company[\"company_name\"] = com_name\n",
    "    \n",
    "df = pd.concat(company_list, axis=0)\n",
    "df"
   ]
  },
  {
   "cell_type": "code",
   "execution_count": 8,
   "metadata": {},
   "outputs": [
    {
     "data": {
      "text/html": [
       "<div>\n",
       "<style scoped>\n",
       "    .dataframe tbody tr th:only-of-type {\n",
       "        vertical-align: middle;\n",
       "    }\n",
       "\n",
       "    .dataframe tbody tr th {\n",
       "        vertical-align: top;\n",
       "    }\n",
       "\n",
       "    .dataframe thead th {\n",
       "        text-align: right;\n",
       "    }\n",
       "</style>\n",
       "<table border=\"1\" class=\"dataframe\">\n",
       "  <thead>\n",
       "    <tr style=\"text-align: right;\">\n",
       "      <th></th>\n",
       "      <th>High</th>\n",
       "      <th>Low</th>\n",
       "      <th>Open</th>\n",
       "      <th>Close</th>\n",
       "      <th>Volume</th>\n",
       "      <th>Adj Close</th>\n",
       "    </tr>\n",
       "  </thead>\n",
       "  <tbody>\n",
       "    <tr>\n",
       "      <td>count</td>\n",
       "      <td>574.000000</td>\n",
       "      <td>574.000000</td>\n",
       "      <td>574.000000</td>\n",
       "      <td>574.000000</td>\n",
       "      <td>5.740000e+02</td>\n",
       "      <td>574.000000</td>\n",
       "    </tr>\n",
       "    <tr>\n",
       "      <td>mean</td>\n",
       "      <td>27.859251</td>\n",
       "      <td>22.496219</td>\n",
       "      <td>25.283397</td>\n",
       "      <td>24.741098</td>\n",
       "      <td>1.038053e+07</td>\n",
       "      <td>24.716384</td>\n",
       "    </tr>\n",
       "    <tr>\n",
       "      <td>std</td>\n",
       "      <td>61.826775</td>\n",
       "      <td>46.204120</td>\n",
       "      <td>54.638808</td>\n",
       "      <td>52.242546</td>\n",
       "      <td>2.009154e+07</td>\n",
       "      <td>52.248585</td>\n",
       "    </tr>\n",
       "    <tr>\n",
       "      <td>min</td>\n",
       "      <td>2.940000</td>\n",
       "      <td>2.570000</td>\n",
       "      <td>2.850000</td>\n",
       "      <td>2.800000</td>\n",
       "      <td>1.282000e+06</td>\n",
       "      <td>2.800000</td>\n",
       "    </tr>\n",
       "    <tr>\n",
       "      <td>25%</td>\n",
       "      <td>4.710000</td>\n",
       "      <td>4.360000</td>\n",
       "      <td>4.540000</td>\n",
       "      <td>4.525000</td>\n",
       "      <td>3.071150e+06</td>\n",
       "      <td>4.525000</td>\n",
       "    </tr>\n",
       "    <tr>\n",
       "      <td>50%</td>\n",
       "      <td>6.195000</td>\n",
       "      <td>5.830000</td>\n",
       "      <td>6.015000</td>\n",
       "      <td>6.035000</td>\n",
       "      <td>4.552550e+06</td>\n",
       "      <td>6.035000</td>\n",
       "    </tr>\n",
       "    <tr>\n",
       "      <td>75%</td>\n",
       "      <td>11.867500</td>\n",
       "      <td>11.357500</td>\n",
       "      <td>11.615000</td>\n",
       "      <td>11.577500</td>\n",
       "      <td>8.538125e+06</td>\n",
       "      <td>11.279793</td>\n",
       "    </tr>\n",
       "    <tr>\n",
       "      <td>max</td>\n",
       "      <td>483.000000</td>\n",
       "      <td>262.269989</td>\n",
       "      <td>379.709991</td>\n",
       "      <td>347.510010</td>\n",
       "      <td>1.971579e+08</td>\n",
       "      <td>347.510010</td>\n",
       "    </tr>\n",
       "  </tbody>\n",
       "</table>\n",
       "</div>"
      ],
      "text/plain": [
       "             High         Low        Open       Close        Volume  \\\n",
       "count  574.000000  574.000000  574.000000  574.000000  5.740000e+02   \n",
       "mean    27.859251   22.496219   25.283397   24.741098  1.038053e+07   \n",
       "std     61.826775   46.204120   54.638808   52.242546  2.009154e+07   \n",
       "min      2.940000    2.570000    2.850000    2.800000  1.282000e+06   \n",
       "25%      4.710000    4.360000    4.540000    4.525000  3.071150e+06   \n",
       "50%      6.195000    5.830000    6.015000    6.035000  4.552550e+06   \n",
       "75%     11.867500   11.357500   11.615000   11.577500  8.538125e+06   \n",
       "max    483.000000  262.269989  379.709991  347.510010  1.971579e+08   \n",
       "\n",
       "        Adj Close  \n",
       "count  574.000000  \n",
       "mean    24.716384  \n",
       "std     52.248585  \n",
       "min      2.800000  \n",
       "25%      4.525000  \n",
       "50%      6.035000  \n",
       "75%     11.279793  \n",
       "max    347.510010  "
      ]
     },
     "execution_count": 8,
     "metadata": {},
     "output_type": "execute_result"
    }
   ],
   "source": [
    "GME.describe()"
   ]
  }
 ],
 "metadata": {
  "kernelspec": {
   "display_name": "Python 3",
   "language": "python",
   "name": "python3"
  },
  "language_info": {
   "codemirror_mode": {
    "name": "ipython",
    "version": 3
   },
   "file_extension": ".py",
   "mimetype": "text/x-python",
   "name": "python",
   "nbconvert_exporter": "python",
   "pygments_lexer": "ipython3",
   "version": "3.7.4"
  }
 },
 "nbformat": 4,
 "nbformat_minor": 2
}
